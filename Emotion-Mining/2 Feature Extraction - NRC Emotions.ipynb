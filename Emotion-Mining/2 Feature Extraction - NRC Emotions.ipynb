{
 "cells": [
  {
   "cell_type": "code",
   "execution_count": 1,
   "metadata": {
    "ExecuteTime": {
     "end_time": "2019-11-18T22:16:08.817815Z",
     "start_time": "2019-11-18T22:16:04.505407Z"
    }
   },
   "outputs": [],
   "source": [
    "from py_lex import Liwc, EmoLex\n",
    "import nltk\n",
    "import pandas as pd\n",
    "# nltk.download('punkt')"
   ]
  },
  {
   "cell_type": "code",
   "execution_count": 2,
   "metadata": {
    "ExecuteTime": {
     "end_time": "2019-11-18T22:16:10.960588Z",
     "start_time": "2019-11-18T22:16:08.820619Z"
    }
   },
   "outputs": [],
   "source": [
    "data = pd.read_json('./data/merged_data_SA.json')"
   ]
  },
  {
   "cell_type": "code",
   "execution_count": 3,
   "metadata": {
    "ExecuteTime": {
     "end_time": "2019-11-18T22:16:11.008694Z",
     "start_time": "2019-11-18T22:16:10.963416Z"
    }
   },
   "outputs": [
    {
     "data": {
      "text/html": [
       "<div>\n",
       "<style scoped>\n",
       "    .dataframe tbody tr th:only-of-type {\n",
       "        vertical-align: middle;\n",
       "    }\n",
       "\n",
       "    .dataframe tbody tr th {\n",
       "        vertical-align: top;\n",
       "    }\n",
       "\n",
       "    .dataframe thead th {\n",
       "        text-align: right;\n",
       "    }\n",
       "</style>\n",
       "<table border=\"1\" class=\"dataframe\">\n",
       "  <thead>\n",
       "    <tr style=\"text-align: right;\">\n",
       "      <th></th>\n",
       "      <th>index</th>\n",
       "      <th>total_awards_received</th>\n",
       "      <th>approved_at_utc</th>\n",
       "      <th>ups</th>\n",
       "      <th>awarders</th>\n",
       "      <th>mod_reason_by</th>\n",
       "      <th>banned_by</th>\n",
       "      <th>author_flair_type</th>\n",
       "      <th>removal_reason</th>\n",
       "      <th>link_id</th>\n",
       "      <th>...</th>\n",
       "      <th>subreddit_name_prefixed</th>\n",
       "      <th>controversiality</th>\n",
       "      <th>depth</th>\n",
       "      <th>author_flair_background_color</th>\n",
       "      <th>mod_reports</th>\n",
       "      <th>mod_note</th>\n",
       "      <th>distinguished</th>\n",
       "      <th>author_cakeday</th>\n",
       "      <th>sent_polarity</th>\n",
       "      <th>sent_subjectivity</th>\n",
       "    </tr>\n",
       "  </thead>\n",
       "  <tbody>\n",
       "    <tr>\n",
       "      <th>8899</th>\n",
       "      <td>265</td>\n",
       "      <td>0</td>\n",
       "      <td>NaN</td>\n",
       "      <td>6</td>\n",
       "      <td>[]</td>\n",
       "      <td>NaN</td>\n",
       "      <td>NaN</td>\n",
       "      <td>text</td>\n",
       "      <td>NaN</td>\n",
       "      <td>t3_died0t</td>\n",
       "      <td>...</td>\n",
       "      <td>r/Beto2020</td>\n",
       "      <td>0</td>\n",
       "      <td>0</td>\n",
       "      <td></td>\n",
       "      <td>[]</td>\n",
       "      <td>NaN</td>\n",
       "      <td>None</td>\n",
       "      <td>NaN</td>\n",
       "      <td>0.0</td>\n",
       "      <td>0.0</td>\n",
       "    </tr>\n",
       "  </tbody>\n",
       "</table>\n",
       "<p>1 rows × 66 columns</p>\n",
       "</div>"
      ],
      "text/plain": [
       "      index  total_awards_received  approved_at_utc  ups awarders  \\\n",
       "8899    265                      0              NaN    6       []   \n",
       "\n",
       "      mod_reason_by  banned_by author_flair_type  removal_reason    link_id  \\\n",
       "8899            NaN        NaN              text             NaN  t3_died0t   \n",
       "\n",
       "      ... subreddit_name_prefixed  controversiality depth  \\\n",
       "8899  ...              r/Beto2020                 0     0   \n",
       "\n",
       "      author_flair_background_color mod_reports  mod_note  distinguished  \\\n",
       "8899                                         []       NaN           None   \n",
       "\n",
       "      author_cakeday  sent_polarity  sent_subjectivity  \n",
       "8899             NaN            0.0                0.0  \n",
       "\n",
       "[1 rows x 66 columns]"
      ]
     },
     "execution_count": 3,
     "metadata": {},
     "output_type": "execute_result"
    }
   ],
   "source": [
    "data.sample()"
   ]
  },
  {
   "cell_type": "code",
   "execution_count": 4,
   "metadata": {
    "ExecuteTime": {
     "end_time": "2019-11-18T22:16:12.479265Z",
     "start_time": "2019-11-18T22:16:12.471926Z"
    }
   },
   "outputs": [
    {
     "data": {
      "text/plain": [
       "array(['AmericanGovernment', 'AmericanPolitics', 'bernie',\n",
       "       'BernieSanders', 'Beto2020', 'BetoORourke', 'bidenbro', 'BillWeld',\n",
       "       'business', 'Communist', 'Conservative', 'conservatives',\n",
       "       'corybooker', 'Delaney2020', 'democracy', 'democrats',\n",
       "       'Democrats2020', 'Economics', 'education', 'egalitarian',\n",
       "       'ElizabethWarren', 'energy', 'environment', 'government',\n",
       "       'history', 'inslee2020', 'JoeBiden', 'JoeWalsh', 'Kamala',\n",
       "       'Kossacks_for_Sanders', 'law', 'LGBTnews', 'Liberal',\n",
       "       'Libertarian', 'LibertarianLeft', 'LibertarianSocialism'],\n",
       "      dtype=object)"
      ]
     },
     "execution_count": 4,
     "metadata": {},
     "output_type": "execute_result"
    }
   ],
   "source": [
    "subreddits = data['subreddit'].unique()\n",
    "subreddits"
   ]
  },
  {
   "cell_type": "markdown",
   "metadata": {},
   "source": [
    "# Test"
   ]
  },
  {
   "cell_type": "code",
   "execution_count": 7,
   "metadata": {
    "ExecuteTime": {
     "end_time": "2019-11-18T22:16:43.507803Z",
     "start_time": "2019-11-18T22:16:43.215199Z"
    }
   },
   "outputs": [],
   "source": [
    "lexicon = EmoLex('./NRC-Sentiment-Emotion-Lexicons/NRC-Sentiment-Emotion-Lexicons/NRC-Emotion-Lexicon-v0.92/NRC-Emotion-Lexicon-Wordlevel-v0.92.txt')\n",
    "stopset = set(nltk.corpus.stopwords.words('English'))"
   ]
  },
  {
   "cell_type": "code",
   "execution_count": 8,
   "metadata": {
    "ExecuteTime": {
     "end_time": "2019-11-18T22:16:44.749567Z",
     "start_time": "2019-11-18T22:16:44.740940Z"
    }
   },
   "outputs": [
    {
     "data": {
      "text/plain": [
       "'How can the marginal cost of production hit zero? I have not read Marx.'"
      ]
     },
     "execution_count": 8,
     "metadata": {},
     "output_type": "execute_result"
    }
   ],
   "source": [
    "body = data.sample()['body'].values[0]\n",
    "body"
   ]
  },
  {
   "cell_type": "code",
   "execution_count": 9,
   "metadata": {
    "ExecuteTime": {
     "end_time": "2019-11-18T22:16:47.190992Z",
     "start_time": "2019-11-18T22:16:47.142022Z"
    }
   },
   "outputs": [
    {
     "data": {
      "text/plain": [
       "{'fear': 0.0,\n",
       " 'disgust': 0.0,\n",
       " 'trust': 0.0,\n",
       " 'surprise': 0.0,\n",
       " 'joy': 0.0,\n",
       " 'sadness': 0.0,\n",
       " 'anticipation': 0.1111111111111111,\n",
       " 'positive': 0.1111111111111111,\n",
       " 'anger': 0.1111111111111111,\n",
       " 'negative': 0.1111111111111111}"
      ]
     },
     "execution_count": 9,
     "metadata": {},
     "output_type": "execute_result"
    }
   ],
   "source": [
    "doc = nltk.tokenize.word_tokenize(body)\n",
    "doc = [word.lower() for word in doc if not word in stopset]\n",
    "lexicon.summarize_doc(doc)"
   ]
  },
  {
   "cell_type": "code",
   "execution_count": 200,
   "metadata": {
    "ExecuteTime": {
     "end_time": "2019-11-17T05:52:50.490009Z",
     "start_time": "2019-11-17T05:52:50.381654Z"
    }
   },
   "outputs": [
    {
     "name": "stdout",
     "output_type": "stream",
     "text": [
      "Is murder illegal?\n",
      "\n",
      "That's the point.\n"
     ]
    }
   ],
   "source": [
    "for index, row in data.iterrows():\n",
    "    print(row.body)\n",
    "    break"
   ]
  },
  {
   "cell_type": "markdown",
   "metadata": {},
   "source": [
    "# Implement on the whole dataset"
   ]
  },
  {
   "cell_type": "code",
   "execution_count": 21,
   "metadata": {
    "ExecuteTime": {
     "end_time": "2019-11-18T22:23:09.267800Z",
     "start_time": "2019-11-18T22:23:09.264089Z"
    }
   },
   "outputs": [],
   "source": [
    "def get_scores(row):\n",
    "    return lexicon.summarize_doc([word.lower() for word in nltk.tokenize.word_tokenize(row['body']) if not word in stopset])"
   ]
  },
  {
   "cell_type": "code",
   "execution_count": 29,
   "metadata": {
    "ExecuteTime": {
     "end_time": "2019-11-18T22:25:35.486659Z",
     "start_time": "2019-11-18T22:25:06.683515Z"
    }
   },
   "outputs": [],
   "source": [
    "data['scores'] = data.apply(get_scores, axis=1)"
   ]
  },
  {
   "cell_type": "code",
   "execution_count": 37,
   "metadata": {
    "ExecuteTime": {
     "end_time": "2019-11-18T22:30:03.847796Z",
     "start_time": "2019-11-18T22:30:03.713840Z"
    }
   },
   "outputs": [],
   "source": [
    "for score_name in ['anticipation', 'positive', 'trust', 'joy', 'fear', 'negative', 'sadness', 'disgust', 'anger', 'surprise']:\n",
    "    data['sc_'+score_name] = data['scores'].apply(lambda x: x[score_name])"
   ]
  },
  {
   "cell_type": "code",
   "execution_count": 39,
   "metadata": {
    "ExecuteTime": {
     "end_time": "2019-11-18T22:30:15.342693Z",
     "start_time": "2019-11-18T22:30:15.315156Z"
    }
   },
   "outputs": [
    {
     "data": {
      "text/html": [
       "<div>\n",
       "<style scoped>\n",
       "    .dataframe tbody tr th:only-of-type {\n",
       "        vertical-align: middle;\n",
       "    }\n",
       "\n",
       "    .dataframe tbody tr th {\n",
       "        vertical-align: top;\n",
       "    }\n",
       "\n",
       "    .dataframe thead th {\n",
       "        text-align: right;\n",
       "    }\n",
       "</style>\n",
       "<table border=\"1\" class=\"dataframe\">\n",
       "  <thead>\n",
       "    <tr style=\"text-align: right;\">\n",
       "      <th></th>\n",
       "      <th>index</th>\n",
       "      <th>total_awards_received</th>\n",
       "      <th>approved_at_utc</th>\n",
       "      <th>ups</th>\n",
       "      <th>awarders</th>\n",
       "      <th>mod_reason_by</th>\n",
       "      <th>banned_by</th>\n",
       "      <th>author_flair_type</th>\n",
       "      <th>removal_reason</th>\n",
       "      <th>link_id</th>\n",
       "      <th>...</th>\n",
       "      <th>sc_anticipation</th>\n",
       "      <th>sc_positive</th>\n",
       "      <th>sc_trust</th>\n",
       "      <th>sc_joy</th>\n",
       "      <th>sc_fear</th>\n",
       "      <th>sc_negative</th>\n",
       "      <th>sc_sadness</th>\n",
       "      <th>sc_disgust</th>\n",
       "      <th>sc_anger</th>\n",
       "      <th>sc_surprise</th>\n",
       "    </tr>\n",
       "  </thead>\n",
       "  <tbody>\n",
       "    <tr>\n",
       "      <th>0</th>\n",
       "      <td>0</td>\n",
       "      <td>0</td>\n",
       "      <td>NaN</td>\n",
       "      <td>0</td>\n",
       "      <td>[]</td>\n",
       "      <td>NaN</td>\n",
       "      <td>NaN</td>\n",
       "      <td>text</td>\n",
       "      <td>NaN</td>\n",
       "      <td>t3_d88slw</td>\n",
       "      <td>...</td>\n",
       "      <td>0.000000</td>\n",
       "      <td>0.000000</td>\n",
       "      <td>0.0</td>\n",
       "      <td>0.000000</td>\n",
       "      <td>0.400000</td>\n",
       "      <td>0.400000</td>\n",
       "      <td>0.400000</td>\n",
       "      <td>0.400000</td>\n",
       "      <td>0.400000</td>\n",
       "      <td>0.200000</td>\n",
       "    </tr>\n",
       "    <tr>\n",
       "      <th>1</th>\n",
       "      <td>1</td>\n",
       "      <td>0</td>\n",
       "      <td>NaN</td>\n",
       "      <td>1</td>\n",
       "      <td>[]</td>\n",
       "      <td>NaN</td>\n",
       "      <td>NaN</td>\n",
       "      <td>text</td>\n",
       "      <td>NaN</td>\n",
       "      <td>t3_d88slw</td>\n",
       "      <td>...</td>\n",
       "      <td>0.041667</td>\n",
       "      <td>0.041667</td>\n",
       "      <td>0.0</td>\n",
       "      <td>0.000000</td>\n",
       "      <td>0.125000</td>\n",
       "      <td>0.125000</td>\n",
       "      <td>0.083333</td>\n",
       "      <td>0.041667</td>\n",
       "      <td>0.125000</td>\n",
       "      <td>0.041667</td>\n",
       "    </tr>\n",
       "    <tr>\n",
       "      <th>2</th>\n",
       "      <td>2</td>\n",
       "      <td>0</td>\n",
       "      <td>NaN</td>\n",
       "      <td>1</td>\n",
       "      <td>[]</td>\n",
       "      <td>NaN</td>\n",
       "      <td>NaN</td>\n",
       "      <td>text</td>\n",
       "      <td>NaN</td>\n",
       "      <td>t3_d88slw</td>\n",
       "      <td>...</td>\n",
       "      <td>0.034483</td>\n",
       "      <td>0.034483</td>\n",
       "      <td>0.0</td>\n",
       "      <td>0.034483</td>\n",
       "      <td>0.137931</td>\n",
       "      <td>0.172414</td>\n",
       "      <td>0.137931</td>\n",
       "      <td>0.103448</td>\n",
       "      <td>0.103448</td>\n",
       "      <td>0.034483</td>\n",
       "    </tr>\n",
       "    <tr>\n",
       "      <th>3</th>\n",
       "      <td>3</td>\n",
       "      <td>0</td>\n",
       "      <td>NaN</td>\n",
       "      <td>1</td>\n",
       "      <td>[]</td>\n",
       "      <td>NaN</td>\n",
       "      <td>NaN</td>\n",
       "      <td>text</td>\n",
       "      <td>NaN</td>\n",
       "      <td>t3_d88slw</td>\n",
       "      <td>...</td>\n",
       "      <td>0.100000</td>\n",
       "      <td>0.200000</td>\n",
       "      <td>0.2</td>\n",
       "      <td>0.000000</td>\n",
       "      <td>0.300000</td>\n",
       "      <td>0.100000</td>\n",
       "      <td>0.100000</td>\n",
       "      <td>0.100000</td>\n",
       "      <td>0.100000</td>\n",
       "      <td>0.100000</td>\n",
       "    </tr>\n",
       "    <tr>\n",
       "      <th>4</th>\n",
       "      <td>4</td>\n",
       "      <td>0</td>\n",
       "      <td>NaN</td>\n",
       "      <td>1</td>\n",
       "      <td>[]</td>\n",
       "      <td>NaN</td>\n",
       "      <td>NaN</td>\n",
       "      <td>text</td>\n",
       "      <td>NaN</td>\n",
       "      <td>t3_d88slw</td>\n",
       "      <td>...</td>\n",
       "      <td>0.000000</td>\n",
       "      <td>0.000000</td>\n",
       "      <td>0.0</td>\n",
       "      <td>0.000000</td>\n",
       "      <td>0.375000</td>\n",
       "      <td>0.500000</td>\n",
       "      <td>0.500000</td>\n",
       "      <td>0.375000</td>\n",
       "      <td>0.375000</td>\n",
       "      <td>0.250000</td>\n",
       "    </tr>\n",
       "  </tbody>\n",
       "</table>\n",
       "<p>5 rows × 77 columns</p>\n",
       "</div>"
      ],
      "text/plain": [
       "   index  total_awards_received  approved_at_utc  ups awarders  mod_reason_by  \\\n",
       "0      0                      0              NaN    0       []            NaN   \n",
       "1      1                      0              NaN    1       []            NaN   \n",
       "2      2                      0              NaN    1       []            NaN   \n",
       "3      3                      0              NaN    1       []            NaN   \n",
       "4      4                      0              NaN    1       []            NaN   \n",
       "\n",
       "   banned_by author_flair_type  removal_reason    link_id  ...  \\\n",
       "0        NaN              text             NaN  t3_d88slw  ...   \n",
       "1        NaN              text             NaN  t3_d88slw  ...   \n",
       "2        NaN              text             NaN  t3_d88slw  ...   \n",
       "3        NaN              text             NaN  t3_d88slw  ...   \n",
       "4        NaN              text             NaN  t3_d88slw  ...   \n",
       "\n",
       "  sc_anticipation  sc_positive sc_trust    sc_joy   sc_fear  sc_negative  \\\n",
       "0        0.000000     0.000000      0.0  0.000000  0.400000     0.400000   \n",
       "1        0.041667     0.041667      0.0  0.000000  0.125000     0.125000   \n",
       "2        0.034483     0.034483      0.0  0.034483  0.137931     0.172414   \n",
       "3        0.100000     0.200000      0.2  0.000000  0.300000     0.100000   \n",
       "4        0.000000     0.000000      0.0  0.000000  0.375000     0.500000   \n",
       "\n",
       "   sc_sadness  sc_disgust  sc_anger  sc_surprise  \n",
       "0    0.400000    0.400000  0.400000     0.200000  \n",
       "1    0.083333    0.041667  0.125000     0.041667  \n",
       "2    0.137931    0.103448  0.103448     0.034483  \n",
       "3    0.100000    0.100000  0.100000     0.100000  \n",
       "4    0.500000    0.375000  0.375000     0.250000  \n",
       "\n",
       "[5 rows x 77 columns]"
      ]
     },
     "execution_count": 39,
     "metadata": {},
     "output_type": "execute_result"
    }
   ],
   "source": [
    "data.head()"
   ]
  },
  {
   "cell_type": "code",
   "execution_count": 43,
   "metadata": {
    "ExecuteTime": {
     "end_time": "2019-11-18T22:37:30.013242Z",
     "start_time": "2019-11-18T22:37:29.172313Z"
    }
   },
   "outputs": [],
   "source": [
    "data.to_json('./data/merged_data_SA.json')"
   ]
  },
  {
   "cell_type": "code",
   "execution_count": null,
   "metadata": {},
   "outputs": [],
   "source": []
  }
 ],
 "metadata": {
  "kernelspec": {
   "display_name": "Python 3",
   "language": "python",
   "name": "python3"
  },
  "language_info": {
   "codemirror_mode": {
    "name": "ipython",
    "version": 3
   },
   "file_extension": ".py",
   "mimetype": "text/x-python",
   "name": "python",
   "nbconvert_exporter": "python",
   "pygments_lexer": "ipython3",
   "version": "3.7.2"
  }
 },
 "nbformat": 4,
 "nbformat_minor": 2
}
