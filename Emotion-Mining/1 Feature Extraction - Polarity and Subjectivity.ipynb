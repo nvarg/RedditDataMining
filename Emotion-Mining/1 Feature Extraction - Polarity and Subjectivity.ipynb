{
 "cells": [
  {
   "cell_type": "code",
   "execution_count": 1,
   "metadata": {
    "ExecuteTime": {
     "end_time": "2019-11-17T02:42:48.965949Z",
     "start_time": "2019-11-17T02:42:40.510647Z"
    }
   },
   "outputs": [],
   "source": [
    "import os\n",
    "import pandas as pd\n",
    "from textblob import TextBlob"
   ]
  },
  {
   "cell_type": "code",
   "execution_count": 2,
   "metadata": {
    "ExecuteTime": {
     "end_time": "2019-11-17T02:42:56.821248Z",
     "start_time": "2019-11-17T02:42:54.614141Z"
    }
   },
   "outputs": [],
   "source": [
    "data = pd.read_json(\"./data/merged_data.json\")"
   ]
  },
  {
   "cell_type": "code",
   "execution_count": 3,
   "metadata": {
    "ExecuteTime": {
     "end_time": "2019-11-17T02:42:57.432916Z",
     "start_time": "2019-11-17T02:42:57.422611Z"
    }
   },
   "outputs": [
    {
     "data": {
      "text/plain": [
       "['index',\n",
       " 'total_awards_received',\n",
       " 'approved_at_utc',\n",
       " 'ups',\n",
       " 'awarders',\n",
       " 'mod_reason_by',\n",
       " 'banned_by',\n",
       " 'author_flair_type',\n",
       " 'removal_reason',\n",
       " 'link_id',\n",
       " 'author_flair_template_id',\n",
       " 'likes',\n",
       " 'user_reports',\n",
       " 'saved',\n",
       " 'id',\n",
       " 'banned_at_utc',\n",
       " 'mod_reason_title',\n",
       " 'gilded',\n",
       " 'archived',\n",
       " 'no_follow',\n",
       " 'author',\n",
       " 'can_mod_post',\n",
       " 'send_replies',\n",
       " 'parent_id',\n",
       " 'score',\n",
       " 'author_fullname',\n",
       " 'report_reasons',\n",
       " 'approved_by',\n",
       " 'all_awardings',\n",
       " 'subreddit_id',\n",
       " 'body',\n",
       " 'edited',\n",
       " 'author_flair_css_class',\n",
       " 'steward_reports',\n",
       " 'is_submitter',\n",
       " 'downs',\n",
       " 'author_flair_richtext',\n",
       " 'author_patreon_flair',\n",
       " 'body_html',\n",
       " 'gildings',\n",
       " 'collapsed_reason',\n",
       " 'associated_award',\n",
       " 'stickied',\n",
       " 'subreddit_type',\n",
       " 'can_gild',\n",
       " 'subreddit',\n",
       " 'author_flair_text_color',\n",
       " 'score_hidden',\n",
       " 'permalink',\n",
       " 'num_reports',\n",
       " 'locked',\n",
       " 'name',\n",
       " 'created',\n",
       " 'author_flair_text',\n",
       " 'collapsed',\n",
       " 'created_utc',\n",
       " 'subreddit_name_prefixed',\n",
       " 'controversiality',\n",
       " 'depth',\n",
       " 'author_flair_background_color',\n",
       " 'mod_reports',\n",
       " 'mod_note',\n",
       " 'distinguished',\n",
       " 'author_cakeday']"
      ]
     },
     "execution_count": 3,
     "metadata": {},
     "output_type": "execute_result"
    }
   ],
   "source": [
    "list(data.columns)"
   ]
  },
  {
   "cell_type": "markdown",
   "metadata": {},
   "source": [
    "## Perform Sentiment Analysis"
   ]
  },
  {
   "cell_type": "code",
   "execution_count": 4,
   "metadata": {
    "ExecuteTime": {
     "end_time": "2019-11-17T02:43:00.432537Z",
     "start_time": "2019-11-17T02:43:00.428648Z"
    }
   },
   "outputs": [],
   "source": [
    "def calc_sentiment(x):\n",
    "    text = TextBlob(x.body)\n",
    "    return pd.Series([text.sentiment.polarity, text.sentiment.subjectivity ])"
   ]
  },
  {
   "cell_type": "code",
   "execution_count": 5,
   "metadata": {
    "ExecuteTime": {
     "end_time": "2019-11-17T02:43:39.406620Z",
     "start_time": "2019-11-17T02:43:01.460903Z"
    }
   },
   "outputs": [],
   "source": [
    "newcols = data.apply(calc_sentiment, axis=1)\n",
    "newcols.columns = ['sent_polarity', 'sent_subjectivity']\n",
    "df = data.join(newcols)"
   ]
  },
  {
   "cell_type": "code",
   "execution_count": 6,
   "metadata": {
    "ExecuteTime": {
     "end_time": "2019-11-17T02:43:43.507356Z",
     "start_time": "2019-11-17T02:43:43.421857Z"
    }
   },
   "outputs": [
    {
     "data": {
      "text/html": [
       "<div>\n",
       "<style scoped>\n",
       "    .dataframe tbody tr th:only-of-type {\n",
       "        vertical-align: middle;\n",
       "    }\n",
       "\n",
       "    .dataframe tbody tr th {\n",
       "        vertical-align: top;\n",
       "    }\n",
       "\n",
       "    .dataframe thead th {\n",
       "        text-align: right;\n",
       "    }\n",
       "</style>\n",
       "<table border=\"1\" class=\"dataframe\">\n",
       "  <thead>\n",
       "    <tr style=\"text-align: right;\">\n",
       "      <th></th>\n",
       "      <th>body</th>\n",
       "      <th>sent_polarity</th>\n",
       "      <th>sent_subjectivity</th>\n",
       "    </tr>\n",
       "  </thead>\n",
       "  <tbody>\n",
       "    <tr>\n",
       "      <th>0</th>\n",
       "      <td>Is murder illegal?\\n\\nThat's the point.</td>\n",
       "      <td>-0.500000</td>\n",
       "      <td>0.500000</td>\n",
       "    </tr>\n",
       "    <tr>\n",
       "      <th>1</th>\n",
       "      <td>But the question posed is why most Republicans...</td>\n",
       "      <td>0.154167</td>\n",
       "      <td>0.775000</td>\n",
       "    </tr>\n",
       "    <tr>\n",
       "      <th>2</th>\n",
       "      <td>Murder gets the ultimate punishment.  That's h...</td>\n",
       "      <td>-0.247917</td>\n",
       "      <td>0.645833</td>\n",
       "    </tr>\n",
       "    <tr>\n",
       "      <th>3</th>\n",
       "      <td>So murder is okay if it deemed necessary by a ...</td>\n",
       "      <td>0.166667</td>\n",
       "      <td>0.500000</td>\n",
       "    </tr>\n",
       "    <tr>\n",
       "      <th>4</th>\n",
       "      <td>Executing a murderer is not murder, it's the t...</td>\n",
       "      <td>0.000000</td>\n",
       "      <td>0.000000</td>\n",
       "    </tr>\n",
       "    <tr>\n",
       "      <th>...</th>\n",
       "      <td>...</td>\n",
       "      <td>...</td>\n",
       "      <td>...</td>\n",
       "    </tr>\n",
       "    <tr>\n",
       "      <th>49090</th>\n",
       "      <td>Pure waste and expansion. The current building...</td>\n",
       "      <td>0.087608</td>\n",
       "      <td>0.371591</td>\n",
       "    </tr>\n",
       "    <tr>\n",
       "      <th>49091</th>\n",
       "      <td>And where are they going to get the billions n...</td>\n",
       "      <td>0.136364</td>\n",
       "      <td>0.454545</td>\n",
       "    </tr>\n",
       "    <tr>\n",
       "      <th>49092</th>\n",
       "      <td>Yeah, how are they going to pay for this?</td>\n",
       "      <td>0.000000</td>\n",
       "      <td>0.000000</td>\n",
       "    </tr>\n",
       "    <tr>\n",
       "      <th>49093</th>\n",
       "      <td>&gt;where are they going to get the billions need...</td>\n",
       "      <td>0.187500</td>\n",
       "      <td>0.533333</td>\n",
       "    </tr>\n",
       "    <tr>\n",
       "      <th>49094</th>\n",
       "      <td>&gt;This fall, 27 top BLM officials will move to ...</td>\n",
       "      <td>0.113492</td>\n",
       "      <td>0.576984</td>\n",
       "    </tr>\n",
       "  </tbody>\n",
       "</table>\n",
       "<p>49095 rows × 3 columns</p>\n",
       "</div>"
      ],
      "text/plain": [
       "                                                    body  sent_polarity  \\\n",
       "0                Is murder illegal?\\n\\nThat's the point.      -0.500000   \n",
       "1      But the question posed is why most Republicans...       0.154167   \n",
       "2      Murder gets the ultimate punishment.  That's h...      -0.247917   \n",
       "3      So murder is okay if it deemed necessary by a ...       0.166667   \n",
       "4      Executing a murderer is not murder, it's the t...       0.000000   \n",
       "...                                                  ...            ...   \n",
       "49090  Pure waste and expansion. The current building...       0.087608   \n",
       "49091  And where are they going to get the billions n...       0.136364   \n",
       "49092          Yeah, how are they going to pay for this?       0.000000   \n",
       "49093  >where are they going to get the billions need...       0.187500   \n",
       "49094  >This fall, 27 top BLM officials will move to ...       0.113492   \n",
       "\n",
       "       sent_subjectivity  \n",
       "0               0.500000  \n",
       "1               0.775000  \n",
       "2               0.645833  \n",
       "3               0.500000  \n",
       "4               0.000000  \n",
       "...                  ...  \n",
       "49090           0.371591  \n",
       "49091           0.454545  \n",
       "49092           0.000000  \n",
       "49093           0.533333  \n",
       "49094           0.576984  \n",
       "\n",
       "[49095 rows x 3 columns]"
      ]
     },
     "execution_count": 6,
     "metadata": {},
     "output_type": "execute_result"
    }
   ],
   "source": [
    "df[['body', 'sent_polarity', 'sent_subjectivity']]"
   ]
  },
  {
   "cell_type": "markdown",
   "metadata": {},
   "source": [
    "## What should we do with values 0 on polarity and subjectivity?\n",
    "\n",
    "### I would drop them"
   ]
  },
  {
   "cell_type": "code",
   "execution_count": 7,
   "metadata": {
    "ExecuteTime": {
     "end_time": "2019-11-17T02:43:52.768796Z",
     "start_time": "2019-11-17T02:43:52.741904Z"
    }
   },
   "outputs": [
    {
     "data": {
      "text/html": [
       "<div>\n",
       "<style scoped>\n",
       "    .dataframe tbody tr th:only-of-type {\n",
       "        vertical-align: middle;\n",
       "    }\n",
       "\n",
       "    .dataframe tbody tr th {\n",
       "        vertical-align: top;\n",
       "    }\n",
       "\n",
       "    .dataframe thead th {\n",
       "        text-align: right;\n",
       "    }\n",
       "</style>\n",
       "<table border=\"1\" class=\"dataframe\">\n",
       "  <thead>\n",
       "    <tr style=\"text-align: right;\">\n",
       "      <th></th>\n",
       "      <th>body</th>\n",
       "      <th>sent_polarity</th>\n",
       "    </tr>\n",
       "  </thead>\n",
       "  <tbody>\n",
       "    <tr>\n",
       "      <th>4</th>\n",
       "      <td>Executing a murderer is not murder, it's the t...</td>\n",
       "      <td>0.0</td>\n",
       "    </tr>\n",
       "    <tr>\n",
       "      <th>5</th>\n",
       "      <td>Why?</td>\n",
       "      <td>0.0</td>\n",
       "    </tr>\n",
       "    <tr>\n",
       "      <th>13</th>\n",
       "      <td>It’s illegitimate should be one</td>\n",
       "      <td>0.0</td>\n",
       "    </tr>\n",
       "    <tr>\n",
       "      <th>17</th>\n",
       "      <td>Such a cheating crook.</td>\n",
       "      <td>0.0</td>\n",
       "    </tr>\n",
       "    <tr>\n",
       "      <th>31</th>\n",
       "      <td>But Putin told him it exists! Putin would neve...</td>\n",
       "      <td>0.0</td>\n",
       "    </tr>\n",
       "    <tr>\n",
       "      <th>...</th>\n",
       "      <td>...</td>\n",
       "      <td>...</td>\n",
       "    </tr>\n",
       "    <tr>\n",
       "      <th>49077</th>\n",
       "      <td>that this sub has been overrun by lefties that...</td>\n",
       "      <td>0.0</td>\n",
       "    </tr>\n",
       "    <tr>\n",
       "      <th>49081</th>\n",
       "      <td>/r/goldandblack</td>\n",
       "      <td>0.0</td>\n",
       "    </tr>\n",
       "    <tr>\n",
       "      <th>49085</th>\n",
       "      <td>TTNP</td>\n",
       "      <td>0.0</td>\n",
       "    </tr>\n",
       "    <tr>\n",
       "      <th>49089</th>\n",
       "      <td>Redistributing wealth via the federal governme...</td>\n",
       "      <td>0.0</td>\n",
       "    </tr>\n",
       "    <tr>\n",
       "      <th>49092</th>\n",
       "      <td>Yeah, how are they going to pay for this?</td>\n",
       "      <td>0.0</td>\n",
       "    </tr>\n",
       "  </tbody>\n",
       "</table>\n",
       "<p>13180 rows × 2 columns</p>\n",
       "</div>"
      ],
      "text/plain": [
       "                                                    body  sent_polarity\n",
       "4      Executing a murderer is not murder, it's the t...            0.0\n",
       "5                                                   Why?            0.0\n",
       "13                       It’s illegitimate should be one            0.0\n",
       "17                                Such a cheating crook.            0.0\n",
       "31     But Putin told him it exists! Putin would neve...            0.0\n",
       "...                                                  ...            ...\n",
       "49077  that this sub has been overrun by lefties that...            0.0\n",
       "49081                                    /r/goldandblack            0.0\n",
       "49085                                               TTNP            0.0\n",
       "49089  Redistributing wealth via the federal governme...            0.0\n",
       "49092          Yeah, how are they going to pay for this?            0.0\n",
       "\n",
       "[13180 rows x 2 columns]"
      ]
     },
     "execution_count": 7,
     "metadata": {},
     "output_type": "execute_result"
    }
   ],
   "source": [
    "df[ df['sent_polarity'] == 0.00 ][['body', 'sent_polarity']]"
   ]
  },
  {
   "cell_type": "code",
   "execution_count": 8,
   "metadata": {
    "ExecuteTime": {
     "end_time": "2019-11-17T02:43:54.859228Z",
     "start_time": "2019-11-17T02:43:54.837259Z"
    }
   },
   "outputs": [
    {
     "data": {
      "text/html": [
       "<div>\n",
       "<style scoped>\n",
       "    .dataframe tbody tr th:only-of-type {\n",
       "        vertical-align: middle;\n",
       "    }\n",
       "\n",
       "    .dataframe tbody tr th {\n",
       "        vertical-align: top;\n",
       "    }\n",
       "\n",
       "    .dataframe thead th {\n",
       "        text-align: right;\n",
       "    }\n",
       "</style>\n",
       "<table border=\"1\" class=\"dataframe\">\n",
       "  <thead>\n",
       "    <tr style=\"text-align: right;\">\n",
       "      <th></th>\n",
       "      <th>body</th>\n",
       "      <th>sent_subjectivity</th>\n",
       "    </tr>\n",
       "  </thead>\n",
       "  <tbody>\n",
       "    <tr>\n",
       "      <th>4</th>\n",
       "      <td>Executing a murderer is not murder, it's the t...</td>\n",
       "      <td>0.0</td>\n",
       "    </tr>\n",
       "    <tr>\n",
       "      <th>5</th>\n",
       "      <td>Why?</td>\n",
       "      <td>0.0</td>\n",
       "    </tr>\n",
       "    <tr>\n",
       "      <th>13</th>\n",
       "      <td>It’s illegitimate should be one</td>\n",
       "      <td>0.0</td>\n",
       "    </tr>\n",
       "    <tr>\n",
       "      <th>31</th>\n",
       "      <td>But Putin told him it exists! Putin would neve...</td>\n",
       "      <td>0.0</td>\n",
       "    </tr>\n",
       "    <tr>\n",
       "      <th>32</th>\n",
       "      <td>Maybe he should pull his ace team of investiga...</td>\n",
       "      <td>0.0</td>\n",
       "    </tr>\n",
       "    <tr>\n",
       "      <th>...</th>\n",
       "      <td>...</td>\n",
       "      <td>...</td>\n",
       "    </tr>\n",
       "    <tr>\n",
       "      <th>49079</th>\n",
       "      <td>There has been no attempt to curate this forum...</td>\n",
       "      <td>0.0</td>\n",
       "    </tr>\n",
       "    <tr>\n",
       "      <th>49081</th>\n",
       "      <td>/r/goldandblack</td>\n",
       "      <td>0.0</td>\n",
       "    </tr>\n",
       "    <tr>\n",
       "      <th>49085</th>\n",
       "      <td>TTNP</td>\n",
       "      <td>0.0</td>\n",
       "    </tr>\n",
       "    <tr>\n",
       "      <th>49089</th>\n",
       "      <td>Redistributing wealth via the federal governme...</td>\n",
       "      <td>0.0</td>\n",
       "    </tr>\n",
       "    <tr>\n",
       "      <th>49092</th>\n",
       "      <td>Yeah, how are they going to pay for this?</td>\n",
       "      <td>0.0</td>\n",
       "    </tr>\n",
       "  </tbody>\n",
       "</table>\n",
       "<p>10819 rows × 2 columns</p>\n",
       "</div>"
      ],
      "text/plain": [
       "                                                    body  sent_subjectivity\n",
       "4      Executing a murderer is not murder, it's the t...                0.0\n",
       "5                                                   Why?                0.0\n",
       "13                       It’s illegitimate should be one                0.0\n",
       "31     But Putin told him it exists! Putin would neve...                0.0\n",
       "32     Maybe he should pull his ace team of investiga...                0.0\n",
       "...                                                  ...                ...\n",
       "49079  There has been no attempt to curate this forum...                0.0\n",
       "49081                                    /r/goldandblack                0.0\n",
       "49085                                               TTNP                0.0\n",
       "49089  Redistributing wealth via the federal governme...                0.0\n",
       "49092          Yeah, how are they going to pay for this?                0.0\n",
       "\n",
       "[10819 rows x 2 columns]"
      ]
     },
     "execution_count": 8,
     "metadata": {},
     "output_type": "execute_result"
    }
   ],
   "source": [
    "df[ df['sent_subjectivity'] == 0.00 ][['body', 'sent_subjectivity']]"
   ]
  },
  {
   "cell_type": "code",
   "execution_count": null,
   "metadata": {},
   "outputs": [],
   "source": []
  },
  {
   "cell_type": "code",
   "execution_count": 9,
   "metadata": {
    "ExecuteTime": {
     "end_time": "2019-11-17T02:44:16.361675Z",
     "start_time": "2019-11-17T02:44:15.836046Z"
    }
   },
   "outputs": [],
   "source": [
    "df.to_json('./data/merged_data_SA.json')"
   ]
  },
  {
   "cell_type": "code",
   "execution_count": null,
   "metadata": {},
   "outputs": [],
   "source": []
  }
 ],
 "metadata": {
  "kernelspec": {
   "display_name": "Python 3",
   "language": "python",
   "name": "python3"
  },
  "language_info": {
   "codemirror_mode": {
    "name": "ipython",
    "version": 3
   },
   "file_extension": ".py",
   "mimetype": "text/x-python",
   "name": "python",
   "nbconvert_exporter": "python",
   "pygments_lexer": "ipython3",
   "version": "3.7.2"
  }
 },
 "nbformat": 4,
 "nbformat_minor": 2
}
